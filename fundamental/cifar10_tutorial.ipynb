{
 "cells": [
  {
   "cell_type": "code",
   "execution_count": 1,
   "metadata": {},
   "outputs": [],
   "source": [
    "%matplotlib inline"
   ]
  },
  {
   "cell_type": "code",
   "execution_count": 2,
   "metadata": {},
   "outputs": [],
   "source": [
    "import torch\n",
    "import torchvision\n",
    "import torchvision.transforms as transforms"
   ]
  },
  {
   "cell_type": "code",
   "execution_count": 3,
   "metadata": {},
   "outputs": [
    {
     "name": "stdout",
     "output_type": "stream",
     "text": [
      "Files already downloaded and verified\n",
      "Files already downloaded and verified\n"
     ]
    }
   ],
   "source": [
    "transform = transforms.Compose(\n",
    "    [transforms.ToTensor(),\n",
    "     transforms.Normalize((0.5, 0.5, 0.5), (0.5, 0.5, 0.5))])\n",
    "\n",
    "trainset = torchvision.datasets.CIFAR10(root='./data', train=True,\n",
    "                                        download=True, transform=transform)\n",
    "trainloader = torch.utils.data.DataLoader(trainset, batch_size=4,\n",
    "                                          shuffle=True, num_workers=2)\n",
    "\n",
    "testset = torchvision.datasets.CIFAR10(root='./data', train=False,\n",
    "                                       download=True, transform=transform)\n",
    "testloader = torch.utils.data.DataLoader(testset, batch_size=4,\n",
    "                                         shuffle=False, num_workers=2)\n",
    "\n",
    "classes = ('plane', 'car', 'bird', 'cat',\n",
    "           'deer', 'dog', 'frog', 'horse', 'ship', 'truck')"
   ]
  },
  {
   "cell_type": "code",
   "execution_count": 4,
   "metadata": {},
   "outputs": [
    {
     "name": "stdout",
     "output_type": "stream",
     "text": [
      " frog  deer  ship   cat\n"
     ]
    },
    {
     "data": {
      "image/png": "[encoded data removed]",
      "text/plain": [
       "<matplotlib.figure.Figure at 0x7ff2fe55db00>"
      ]
     },
     "metadata": {},
     "output_type": "display_data"
    }
   ],
   "source": [
    "import matplotlib.pyplot as plt\n",
    "import numpy as np\n",
    "\n",
    "# functions to show an image\n",
    "\n",
    "\n",
    "def imshow(img):\n",
    "    img = img / 2 + 0.5     # unnormalize\n",
    "    npimg = img.numpy()\n",
    "    plt.imshow(np.transpose(npimg, (1, 2, 0)))\n",
    "\n",
    "\n",
    "# get some random training images\n",
    "dataiter = iter(trainloader)\n",
    "images, labels = dataiter.next()\n",
    "\n",
    "# show images\n",
    "imshow(torchvision.utils.make_grid(images))\n",
    "# print labels\n",
    "print(' '.join('%5s' % classes[labels[j]] for j in range(4)))"
   ]
  },
  {
   "cell_type": "code",
   "execution_count": 5,
   "metadata": {},
   "outputs": [],
   "source": [
    "from torch.autograd import Variable\n",
    "import torch.nn as nn\n",
    "import torch.nn.functional as F\n",
    "\n",
    "\n",
    "class Net(nn.Module):\n",
    "    def __init__(self):\n",
    "        super(Net, self).__init__()\n",
    "        self.conv1 = nn.Conv2d(3, 6, 5)\n",
    "        self.pool = nn.MaxPool2d(2, 2)\n",
    "        self.conv2 = nn.Conv2d(6, 16, 5)\n",
    "        self.fc1 = nn.Linear(16 * 5 * 5, 120)\n",
    "        self.fc2 = nn.Linear(120, 84)\n",
    "        self.fc3 = nn.Linear(84, 10)\n",
    "\n",
    "    def forward(self, x):\n",
    "        x = self.pool(F.relu(self.conv1(x)))\n",
    "        x = self.pool(F.relu(self.conv2(x)))\n",
    "        x = x.view(-1, 16 * 5 * 5)\n",
    "        x = F.relu(self.fc1(x))\n",
    "        x = F.relu(self.fc2(x))\n",
    "        x = self.fc3(x)\n",
    "        return x\n",
    "\n",
    "net = Net()\n",
    "if(torch.cuda.is_available()):\n",
    "    net.cuda()\n"
   ]
  },
  {
   "cell_type": "code",
   "execution_count": 6,
   "metadata": {},
   "outputs": [],
   "source": [
    "import torch.optim as optim\n",
    "\n",
    "criterion = nn.CrossEntropyLoss()\n",
    "optimizer = optim.SGD(net.parameters(), lr=0.001, momentum=0.9)"
   ]
  },
  {
   "cell_type": "code",
   "execution_count": 7,
   "metadata": {},
   "outputs": [
    {
     "name": "stdout",
     "output_type": "stream",
     "text": [
      "[1,  2000] loss: 2.188\n",
      "[1,  4000] loss: 1.851\n",
      "[1,  6000] loss: 1.651\n",
      "[1,  8000] loss: 1.575\n",
      "[1, 10000] loss: 1.505\n",
      "[1, 12000] loss: 1.451\n",
      "[2,  2000] loss: 1.407\n",
      "[2,  4000] loss: 1.358\n",
      "[2,  6000] loss: 1.329\n",
      "[2,  8000] loss: 1.314\n",
      "[2, 10000] loss: 1.288\n",
      "[2, 12000] loss: 1.293\n",
      "[3,  2000] loss: 1.209\n",
      "[3,  4000] loss: 1.194\n",
      "[3,  6000] loss: 1.198\n",
      "[3,  8000] loss: 1.190\n",
      "[3, 10000] loss: 1.193\n",
      "[3, 12000] loss: 1.156\n",
      "[4,  2000] loss: 1.093\n",
      "[4,  4000] loss: 1.106\n",
      "[4,  6000] loss: 1.101\n",
      "[4,  8000] loss: 1.087\n",
      "[4, 10000] loss: 1.094\n",
      "[4, 12000] loss: 1.105\n",
      "[5,  2000] loss: 0.981\n",
      "[5,  4000] loss: 1.018\n",
      "[5,  6000] loss: 1.036\n",
      "[5,  8000] loss: 1.026\n",
      "[5, 10000] loss: 1.045\n",
      "[5, 12000] loss: 1.045\n",
      "[6,  2000] loss: 0.947\n",
      "[6,  4000] loss: 0.962\n",
      "[6,  6000] loss: 0.947\n",
      "[6,  8000] loss: 0.991\n",
      "[6, 10000] loss: 0.967\n",
      "[6, 12000] loss: 0.987\n",
      "[7,  2000] loss: 0.902\n",
      "[7,  4000] loss: 0.903\n",
      "[7,  6000] loss: 0.932\n",
      "[7,  8000] loss: 0.915\n",
      "[7, 10000] loss: 0.935\n",
      "[7, 12000] loss: 0.939\n",
      "[8,  2000] loss: 0.831\n",
      "[8,  4000] loss: 0.859\n",
      "[8,  6000] loss: 0.867\n",
      "[8,  8000] loss: 0.896\n",
      "[8, 10000] loss: 0.909\n",
      "[8, 12000] loss: 0.935\n",
      "[9,  2000] loss: 0.795\n",
      "[9,  4000] loss: 0.827\n",
      "[9,  6000] loss: 0.832\n",
      "[9,  8000] loss: 0.867\n",
      "[9, 10000] loss: 0.878\n",
      "[9, 12000] loss: 0.896\n",
      "[10,  2000] loss: 0.767\n",
      "[10,  4000] loss: 0.815\n",
      "[10,  6000] loss: 0.817\n",
      "[10,  8000] loss: 0.845\n",
      "[10, 10000] loss: 0.847\n",
      "[10, 12000] loss: 0.851\n",
      "[11,  2000] loss: 0.735\n",
      "[11,  4000] loss: 0.774\n",
      "[11,  6000] loss: 0.783\n",
      "[11,  8000] loss: 0.807\n",
      "[11, 10000] loss: 0.820\n",
      "[11, 12000] loss: 0.842\n",
      "[12,  2000] loss: 0.716\n",
      "[12,  4000] loss: 0.770\n",
      "[12,  6000] loss: 0.773\n",
      "[12,  8000] loss: 0.785\n",
      "[12, 10000] loss: 0.810\n",
      "[12, 12000] loss: 0.806\n",
      "[13,  2000] loss: 0.714\n",
      "[13,  4000] loss: 0.733\n",
      "[13,  6000] loss: 0.761\n",
      "[13,  8000] loss: 0.770\n",
      "[13, 10000] loss: 0.769\n",
      "[13, 12000] loss: 0.792\n",
      "[14,  2000] loss: 0.694\n",
      "[14,  4000] loss: 0.711\n",
      "[14,  6000] loss: 0.725\n",
      "[14,  8000] loss: 0.758\n",
      "[14, 10000] loss: 0.766\n",
      "[14, 12000] loss: 0.782\n",
      "[15,  2000] loss: 0.666\n",
      "[15,  4000] loss: 0.709\n",
      "[15,  6000] loss: 0.704\n",
      "[15,  8000] loss: 0.730\n",
      "[15, 10000] loss: 0.741\n",
      "[15, 12000] loss: 0.771\n",
      "[16,  2000] loss: 0.647\n",
      "[16,  4000] loss: 0.669\n",
      "[16,  6000] loss: 0.703\n",
      "[16,  8000] loss: 0.731\n",
      "[16, 10000] loss: 0.749\n",
      "[16, 12000] loss: 0.753\n",
      "[17,  2000] loss: 0.637\n",
      "[17,  4000] loss: 0.655\n",
      "[17,  6000] loss: 0.691\n",
      "[17,  8000] loss: 0.721\n",
      "[17, 10000] loss: 0.716\n",
      "[17, 12000] loss: 0.755\n",
      "[18,  2000] loss: 0.608\n",
      "[18,  4000] loss: 0.677\n",
      "[18,  6000] loss: 0.686\n",
      "[18,  8000] loss: 0.697\n",
      "[18, 10000] loss: 0.690\n",
      "[18, 12000] loss: 0.737\n",
      "[19,  2000] loss: 0.601\n",
      "[19,  4000] loss: 0.651\n",
      "[19,  6000] loss: 0.688\n",
      "[19,  8000] loss: 0.705\n",
      "[19, 10000] loss: 0.705\n",
      "[19, 12000] loss: 0.711\n",
      "[20,  2000] loss: 0.608\n",
      "[20,  4000] loss: 0.641\n",
      "[20,  6000] loss: 0.670\n",
      "[20,  8000] loss: 0.674\n",
      "[20, 10000] loss: 0.716\n",
      "[20, 12000] loss: 0.705\n",
      "Finished Training\n"
     ]
    }
   ],
   "source": [
    "for epoch in range(20):  # loop over the dataset multiple times\n",
    "\n",
    "    running_loss = 0.0\n",
    "    for i, data in enumerate(trainloader, 0):\n",
    "        # get the inputs\n",
    "        inputs, labels = data\n",
    "\n",
    "        # wrap them in Variable\n",
    "        inputs, labels = Variable(inputs.cuda()), Variable(labels.cuda())\n",
    "        \n",
    "        # zero the parameter gradients\n",
    "        optimizer.zero_grad()\n",
    "\n",
    "        # forward + backward + optimize\n",
    "        outputs = net(inputs)\n",
    "        loss = criterion(outputs, labels)\n",
    "        loss.backward()\n",
    "        optimizer.step()\n",
    "\n",
    "        # print statistics\n",
    "        running_loss += loss.data[0]\n",
    "        if i % 2000 == 1999:    # print every 2000 mini-batches\n",
    "            print('[%d, %5d] loss: %.3f' %\n",
    "                  (epoch + 1, i + 1, running_loss / 2000))\n",
    "            running_loss = 0.0\n",
    "\n",
    "print('Finished Training')"
   ]
  },
  {
   "cell_type": "code",
   "execution_count": 8,
   "metadata": {},
   "outputs": [
    {
     "name": "stdout",
     "output_type": "stream",
     "text": [
      "GroundTruth:    cat  ship  ship plane\n"
     ]
    },
    {
     "data": {
      "image/png": "[encoded data removed]",
      "text/plain": [
       "<matplotlib.figure.Figure at 0x7ff2fe55d5c0>"
      ]
     },
     "metadata": {},
     "output_type": "display_data"
    }
   ],
   "source": [
    "dataiter = iter(testloader)\n",
    "images, labels = dataiter.next()\n",
    "\n",
    "# print images\n",
    "imshow(torchvision.utils.make_grid(images))\n",
    "print('GroundTruth: ', ' '.join('%5s' % classes[labels[j]] for j in range(4)))"
   ]
  },
  {
   "cell_type": "code",
   "execution_count": 9,
   "metadata": {},
   "outputs": [
    {
     "name": "stdout",
     "output_type": "stream",
     "text": [
      "torch.Size([4, 3, 32, 32])\n"
     ]
    }
   ],
   "source": [
    "outputs = net(Variable(images).cuda())\n",
    "print(images.size())"
   ]
  },
  {
   "cell_type": "code",
   "execution_count": 10,
   "metadata": {},
   "outputs": [
    {
     "name": "stdout",
     "output_type": "stream",
     "text": [
      "Predicted:    cat plane  ship plane\n"
     ]
    }
   ],
   "source": [
    "_, predicted = torch.max(outputs.data, 1)\n",
    "\n",
    "print('Predicted: ', ' '.join('%5s' % classes[predicted[j]]\n",
    "                              for j in range(4)))"
   ]
  },
  {
   "cell_type": "code",
   "execution_count": 16,
   "metadata": {},
   "outputs": [
    {
     "name": "stdout",
     "output_type": "stream",
     "text": [
      "Accuracy of the network on the 10000 test images: 61 %\n"
     ]
    }
   ],
   "source": [
    "correct = 0\n",
    "total = 0\n",
    "for data in testloader:\n",
    "    images, labels = data\n",
    "    outputs = net(Variable(images.cuda()))\n",
    "    _, predicted = torch.max(outputs.data, 1)\n",
    "    total += labels.size(0)\n",
    "    correct += (predicted == labels.cuda()).sum()\n",
    "print('Accuracy of the network on the 10000 test images: %d %%' % (\n",
    "    100 * correct / total))"
   ]
  },
  {
   "cell_type": "code",
   "execution_count": 17,
   "metadata": {},
   "outputs": [
    {
     "ename": "TypeError",
     "evalue": "eq received an invalid combination of arguments - got (torch.LongTensor), but expected one of:\n * (int value)\n      didn't match because some of the arguments have invalid types: (\u001b[31;1mtorch.LongTensor\u001b[0m)\n * (torch.cuda.LongTensor other)\n      didn't match because some of the arguments have invalid types: (\u001b[31;1mtorch.LongTensor\u001b[0m)\n",
     "output_type": "error",
     "traceback": [
      "\u001b[0;31m---------------------------------------------------------------------------\u001b[0m",
      "\u001b[0;31mTypeError\u001b[0m                                 Traceback (most recent call last)",
      "\u001b[0;32m<ipython-input-17-8db28706ff99>\u001b[0m in \u001b[0;36m<module>\u001b[0;34m()\u001b[0m\n\u001b[1;32m      5\u001b[0m     \u001b[0moutputs\u001b[0m \u001b[0;34m=\u001b[0m \u001b[0mnet\u001b[0m\u001b[0;34m(\u001b[0m\u001b[0mVariable\u001b[0m\u001b[0;34m(\u001b[0m\u001b[0mimages\u001b[0m\u001b[0;34m.\u001b[0m\u001b[0mcuda\u001b[0m\u001b[0;34m(\u001b[0m\u001b[0;34m)\u001b[0m\u001b[0;34m)\u001b[0m\u001b[0;34m)\u001b[0m\u001b[0;34m\u001b[0m\u001b[0m\n\u001b[1;32m      6\u001b[0m     \u001b[0m_\u001b[0m\u001b[0;34m,\u001b[0m \u001b[0mpredicted\u001b[0m \u001b[0;34m=\u001b[0m \u001b[0mtorch\u001b[0m\u001b[0;34m.\u001b[0m\u001b[0mmax\u001b[0m\u001b[0;34m(\u001b[0m\u001b[0moutputs\u001b[0m\u001b[0;34m.\u001b[0m\u001b[0mdata\u001b[0m\u001b[0;34m,\u001b[0m \u001b[0;36m1\u001b[0m\u001b[0;34m)\u001b[0m\u001b[0;34m\u001b[0m\u001b[0m\n\u001b[0;32m----> 7\u001b[0;31m     \u001b[0mprint\u001b[0m\u001b[0;34m(\u001b[0m\u001b[0;34m(\u001b[0m\u001b[0mpredicted\u001b[0m \u001b[0;34m==\u001b[0m \u001b[0mlabels\u001b[0m\u001b[0;34m)\u001b[0m\u001b[0;34m.\u001b[0m\u001b[0msize\u001b[0m\u001b[0;34m(\u001b[0m\u001b[0;34m)\u001b[0m\u001b[0;34m)\u001b[0m\u001b[0;34m\u001b[0m\u001b[0m\n\u001b[0m\u001b[1;32m      8\u001b[0m     \u001b[0mc\u001b[0m \u001b[0;34m=\u001b[0m \u001b[0;34m(\u001b[0m\u001b[0mpredicted\u001b[0m \u001b[0;34m==\u001b[0m \u001b[0mlabels\u001b[0m\u001b[0;34m)\u001b[0m\u001b[0;34m.\u001b[0m\u001b[0msqueeze\u001b[0m\u001b[0;34m(\u001b[0m\u001b[0;34m)\u001b[0m\u001b[0;34m\u001b[0m\u001b[0m\n\u001b[1;32m      9\u001b[0m     \u001b[0;31m#print(c)\u001b[0m\u001b[0;34m\u001b[0m\u001b[0;34m\u001b[0m\u001b[0m\n",
      "\u001b[0;32m~/anaconda3/envs/pytorch/lib/python3.6/site-packages/torch/tensor.py\u001b[0m in \u001b[0;36m__eq__\u001b[0;34m(self, other)\u001b[0m\n\u001b[1;32m    346\u001b[0m \u001b[0;34m\u001b[0m\u001b[0m\n\u001b[1;32m    347\u001b[0m     \u001b[0;32mdef\u001b[0m \u001b[0m__eq__\u001b[0m\u001b[0;34m(\u001b[0m\u001b[0mself\u001b[0m\u001b[0;34m,\u001b[0m \u001b[0mother\u001b[0m\u001b[0;34m)\u001b[0m\u001b[0;34m:\u001b[0m\u001b[0;34m\u001b[0m\u001b[0m\n\u001b[0;32m--> 348\u001b[0;31m         \u001b[0;32mreturn\u001b[0m \u001b[0mself\u001b[0m\u001b[0;34m.\u001b[0m\u001b[0meq\u001b[0m\u001b[0;34m(\u001b[0m\u001b[0mother\u001b[0m\u001b[0;34m)\u001b[0m\u001b[0;34m\u001b[0m\u001b[0m\n\u001b[0m\u001b[1;32m    349\u001b[0m \u001b[0;34m\u001b[0m\u001b[0m\n\u001b[1;32m    350\u001b[0m     \u001b[0;32mdef\u001b[0m \u001b[0m__ne__\u001b[0m\u001b[0;34m(\u001b[0m\u001b[0mself\u001b[0m\u001b[0;34m,\u001b[0m \u001b[0mother\u001b[0m\u001b[0;34m)\u001b[0m\u001b[0;34m:\u001b[0m\u001b[0;34m\u001b[0m\u001b[0m\n",
      "\u001b[0;31mTypeError\u001b[0m: eq received an invalid combination of arguments - got (torch.LongTensor), but expected one of:\n * (int value)\n      didn't match because some of the arguments have invalid types: (\u001b[31;1mtorch.LongTensor\u001b[0m)\n * (torch.cuda.LongTensor other)\n      didn't match because some of the arguments have invalid types: (\u001b[31;1mtorch.LongTensor\u001b[0m)\n"
     ]
    }
   ],
   "source": [
    "class_correct = list(0. for i in range(10))\n",
    "class_total = list(0. for i in range(10))\n",
    "for data in testloader:\n",
    "    images, labels = data\n",
    "    outputs = net(Variable(images.cuda()))\n",
    "    _, predicted = torch.max(outputs.data, 1)\n",
    "    print((predicted == labels).size())\n",
    "    c = (predicted == labels).squeeze()\n",
    "    #print(c)\n",
    "    for i in range(4):\n",
    "        label = labels[i]\n",
    "        class_correct[label] += c[i]\n",
    "        class_total[label] += 1\n",
    "\n",
    "\n",
    "for i in range(10):\n",
    "    print('Accuracy of %5s : %2d %%' % (\n",
    "        classes[i], 100 * class_correct[i] / class_total[i]))"
   ]
  },
  {
   "cell_type": "code",
   "execution_count": null,
   "metadata": {},
   "outputs": [],
   "source": []
  },
  {
   "cell_type": "code",
   "execution_count": null,
   "metadata": {},
   "outputs": [],
   "source": []
  },
  {
   "cell_type": "code",
   "execution_count": null,
   "metadata": {},
   "outputs": [],
   "source": []
  },
  {
   "cell_type": "code",
   "execution_count": null,
   "metadata": {},
   "outputs": [],
   "source": []
  },
  {
   "cell_type": "code",
   "execution_count": null,
   "metadata": {},
   "outputs": [],
   "source": []
  },
  {
   "cell_type": "code",
   "execution_count": null,
   "metadata": {},
   "outputs": [],
   "source": []
  }
 ],
 "metadata": {
  "kernelspec": {
   "display_name": "Python 3",
   "language": "python",
   "name": "python3"
  },
  "language_info": {
   "codemirror_mode": {
    "name": "ipython",
    "version": 3
   },
   "file_extension": ".py",
   "mimetype": "text/x-python",
   "name": "python",
   "nbconvert_exporter": "python",
   "pygments_lexer": "ipython3",
   "version": "3.6.4"
  }
 },
 "nbformat": 4,
 "nbformat_minor": 1
}

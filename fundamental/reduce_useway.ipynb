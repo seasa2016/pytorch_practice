{
 "cells": [
  {
   "cell_type": "code",
   "execution_count": 40,
   "metadata": {
    "collapsed": true
   },
   "outputs": [],
   "source": [
    "import functools"
   ]
  },
  {
   "cell_type": "code",
   "execution_count": 61,
   "metadata": {},
   "outputs": [],
   "source": [
    "def __select(xs, compare):\n",
    "    \n",
    "    \n",
    "    selected = functools.reduce(lambda x,y: x if(compare(x, y) < 0) else y,xs )\n",
    "        \n",
    "    remain = []\n",
    "    selected_list = []\n",
    "    \n",
    "    \n",
    "    if(xs[0] != selected):\n",
    "        remain.append(xs[0])\n",
    "    else: \n",
    "        selected_list.append(xs[0])\n",
    "    \n",
    "    functools.reduce(lambda x,y:remain.append(y)if(y != selected) else selected_list.append(y),xs)\n",
    "    \n",
    "    \n",
    "    \n",
    "    return xs if not remain else selected_list + __select(remain, compare)\n",
    " "
   ]
  },
  {
   "cell_type": "code",
   "execution_count": 62,
   "metadata": {
    "collapsed": true
   },
   "outputs": [],
   "source": [
    "def ascending(a, b): return a - b\n",
    "def descending(a, b): return -ascending(a, b)\n",
    "# selection sort\n",
    "def sorted(xs, compare = ascending):\n",
    "    return [] if not xs else __select(xs, compare)"
   ]
  },
  {
   "cell_type": "code",
   "execution_count": 63,
   "metadata": {},
   "outputs": [
    {
     "name": "stdout",
     "output_type": "stream",
     "text": [
      "[1, 2, 3, 5, 6]\n",
      "[6, 5, 3, 2, 1]\n"
     ]
    }
   ],
   "source": [
    "print(sorted([2, 1, 3, 6, 5]))\n",
    "print(sorted([2, 1, 3, 6, 5],descending))"
   ]
  },
  {
   "cell_type": "code",
   "execution_count": 54,
   "metadata": {},
   "outputs": [
    {
     "name": "stdout",
     "output_type": "stream",
     "text": [
      "test\n",
      "test\n",
      "test\n",
      "test\n",
      "test\n",
      "[1, 2, 3, 5, 6]\n",
      "test\n",
      "test\n",
      "test\n",
      "test\n",
      "test\n",
      "[6, 5, 3, 2, 1]\n"
     ]
    }
   ],
   "source": [
    "def ascending(a, b): return a - b\n",
    "def descending(a, b): return -ascending(a, b)\n",
    "# selection sort\n",
    "def sorted(xs, compare = ascending):\n",
    "    return [] if not xs else __select(xs, compare)\n",
    " \n",
    "def __select(xs, compare):\n",
    "    selected = xs[0]\n",
    "    for elem in xs[1:]:\n",
    "        if compare(elem, selected) < 0:\n",
    "            selected = elem\n",
    "    \n",
    "    print('test')\n",
    "    remain = []\n",
    "    selected_list = []\n",
    "    for elem in xs:\n",
    "        if elem != selected:\n",
    "            remain.append(elem)\n",
    "        else:\n",
    "            selected_list.append(elem)\n",
    " \n",
    "    return xs if not remain else selected_list + __select(remain, compare)\n",
    " \n",
    "print(sorted([2, 1, 3, 6, 5]))\n",
    "print(sorted([2, 1, 3, 6, 5],descending))"
   ]
  },
  {
   "cell_type": "code",
   "execution_count": null,
   "metadata": {
    "collapsed": true
   },
   "outputs": [],
   "source": []
  },
  {
   "cell_type": "code",
   "execution_count": null,
   "metadata": {
    "collapsed": true
   },
   "outputs": [],
   "source": []
  }
 ],
 "metadata": {
  "kernelspec": {
   "display_name": "Python 3",
   "language": "python",
   "name": "python3"
  },
  "language_info": {
   "codemirror_mode": {
    "name": "ipython",
    "version": 3
   },
   "file_extension": ".py",
   "mimetype": "text/x-python",
   "name": "python",
   "nbconvert_exporter": "python",
   "pygments_lexer": "ipython3",
   "version": "3.6.3"
  }
 },
 "nbformat": 4,
 "nbformat_minor": 2
}
